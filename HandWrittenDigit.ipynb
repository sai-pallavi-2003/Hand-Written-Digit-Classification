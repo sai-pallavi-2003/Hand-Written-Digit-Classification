{
  "nbformat": 4,
  "nbformat_minor": 0,
  "metadata": {
    "colab": {
      "name": "HandWrittenDigit.ipynb",
      "provenance": [],
      "authorship_tag": "ABX9TyNwuO288PLUDX9Xw2nv1ASQ"
    },
    "kernelspec": {
      "name": "python3",
      "display_name": "Python 3"
    },
    "language_info": {
      "name": "python"
    }
  },
  "cells": [
    {
      "cell_type": "markdown",
      "source": [
        "Importing libraries "
      ],
      "metadata": {
        "id": "l7iDA114s3Gb"
      }
    },
    {
      "cell_type": "code",
      "execution_count": 6,
      "metadata": {
        "id": "A-OpXBMtrPRk"
      },
      "outputs": [],
      "source": [
        "import numpy as np\n",
        "import pandas as pd\n",
        "import matplotlib.pyplot as plt\n",
        "# these are the three Python libraries that are imported with their local names as 'np' 'pd' and 'plt'"
      ]
    },
    {
      "cell_type": "markdown",
      "source": [
        "Defining the Euclidean distance function\n",
        "\n",
        "This function is used for finding the distance between two given points"
      ],
      "metadata": {
        "id": "Q6oKm_Gds6Pj"
      }
    },
    {
      "cell_type": "code",
      "source": [
        "def dist(x1, x2):\n",
        "    return np.sqrt(sum((x1-x2)**2))\n",
        "#the original formula : sqrt((x1-x2)^2 + (y1-y2)^2)"
      ],
      "metadata": {
        "id": "GWSPLg9EtQhV"
      },
      "execution_count": 23,
      "outputs": []
    },
    {
      "cell_type": "markdown",
      "source": [
        "Defining the K-NN Algorithm:\n",
        "\n",
        "\n",
        "\n",
        "*   The function knn takes 3 parameters: pixel, label,  queryPoint and k\n",
        "*   'n' is the size of the list 'pixel' \n",
        "*   array is an empty list into which we append the differences of distances between the query point and every other point in the data.\n",
        "*   new_array is the new list which returns all the unique label elements and its count (number of occurances)\n",
        "*   index counts the most repeated elements in new_array and returns its value using the argmax() function\n",
        "*   prediction returns the value of label present for most number of times\n",
        "\n"
      ],
      "metadata": {
        "id": "78we-IxGu6h0"
      }
    },
    {
      "cell_type": "code",
      "source": [
        "def knn(pixel, label, queryPoint, k=5):\n",
        "    array = []\n",
        "    n = pixel.shape[0]\n",
        "    for i in range(n):\n",
        "        d = dist(queryPoint, pixel[i])\n",
        "        array.append((d, label[i]))\n",
        "    array = sorted(array)\n",
        "    array = array[:k]\n",
        "    array = np.array(array)\n",
        "    new_array = np.unique(array[:, 1], return_counts = True)\n",
        "    index = new_array[1].argmax()\n",
        "    prediction = new_array[0][index]\n",
        "    return prediction\n",
        "   "
      ],
      "metadata": {
        "id": "rBmLNKFovRGh"
      },
      "execution_count": 28,
      "outputs": []
    },
    {
      "cell_type": "markdown",
      "source": [
        "Importing MNIST data\n",
        "\n",
        ".shape() function gives the lengths of array dimensions."
      ],
      "metadata": {
        "id": "acYZnn98xLrx"
      }
    },
    {
      "cell_type": "code",
      "source": [
        "df = pd.read_csv('/train.csv')\n",
        "df.shape"
      ],
      "metadata": {
        "id": "P2kI0VRTxTEw"
      },
      "execution_count": null,
      "outputs": []
    },
    {
      "cell_type": "markdown",
      "source": [
        "Printing the rows and columns of the data\n"
      ],
      "metadata": {
        "id": "mNaeyY6Hy4VE"
      }
    },
    {
      "cell_type": "code",
      "source": [
        "print(df.columns)"
      ],
      "metadata": {
        "id": "Ag8POE7uzIQy"
      },
      "execution_count": null,
      "outputs": []
    },
    {
      "cell_type": "code",
      "source": [
        "df.head()"
      ],
      "metadata": {
        "id": "HP4Qs5O0zexv"
      },
      "execution_count": null,
      "outputs": []
    },
    {
      "cell_type": "markdown",
      "source": [
        "Storing all the values of the data in a variable"
      ],
      "metadata": {
        "id": "ZUsE03QqzoBm"
      }
    },
    {
      "cell_type": "code",
      "source": [
        "data = df.values\n",
        "print(type(data))\n",
        "#converting the given data into a numpy array for performing required operations."
      ],
      "metadata": {
        "id": "QWm9vt3Nz7vy"
      },
      "execution_count": null,
      "outputs": []
    },
    {
      "cell_type": "markdown",
      "source": [
        "Identifying or separating the labels and features of the data.\n",
        "The MNIST data contains of labels(output) and features(inputs)\n",
        "\n",
        "we slice the data into pixels and labels where 'pixel' contain all the numbers in the form of pixels and 'label' conatins the numbers from '0 to 9' "
      ],
      "metadata": {
        "id": "UO-l4W3D0VCj"
      }
    },
    {
      "cell_type": "code",
      "source": [
        "\n",
        "pixel = data[:, 1:]\n",
        "label = data[:, 0]\n",
        "#the print statements are added for better understanding of slicing of data into pixels and labels \n",
        "print(pixel,label)\n",
        "print(pixel.shape, label.shape)"
      ],
      "metadata": {
        "id": "nrolCcLz1UHO"
      },
      "execution_count": null,
      "outputs": []
    },
    {
      "cell_type": "markdown",
      "source": [
        "Dividing the data into 'training data' and 'testing data'\n",
        "The given data is divided into two parts:\n",
        "*  Training data : this part of the data is trained according to the model\n",
        "*   Testing data : this part of the data is used to test the model.\n",
        "The built model is tested on 'testing data' and trained using 'training data'\n",
        "\n",
        "here, pixel is 2D array and label is a 1D array.\n",
        "\n",
        "in pixel_train we slice the pixel array till split that is till 41500 rows and have all the 784 columns\n",
        "\n",
        "in label_train we slice the label array till split that is till 41500 rows.\n",
        "so there are now 2 arrays which are mapped.\n",
        "\n",
        "in pixel_test we slice the other half/add the other half\n",
        "\n",
        "in label_test also we add the other half"
      ],
      "metadata": {
        "id": "eFYDPxoB5Whs"
      }
    },
    {
      "cell_type": "code",
      "source": [
        "# so we have 42000 pixels out of which 41500 pixels is used for 'training' and the rest for 'testomg'\n",
        "split = 41500 \n",
        "#training the data\n",
        "pixel_train = pixel[:split, :]\n",
        "label_train = label[:split]\n",
        "\n",
        "#testing the data\n",
        "pixel_test = pixel[split: , : ]\n",
        "label_test = label[split: ]\n",
        "\n",
        "print(\"Training data: \",pixel_train.shape,label_train.shape)\n",
        "print(\"Testing data: \",pixel_test.shape,label_test.shape)\n",
        "                   "
      ],
      "metadata": {
        "id": "p7rMhkYW7kS-"
      },
      "execution_count": null,
      "outputs": []
    },
    {
      "cell_type": "markdown",
      "source": [
        "Defining a function for displaying an image of the data.\n",
        "\n",
        "imshow() is an inbuilt function used to show the image."
      ],
      "metadata": {
        "id": "JD4xhVU6F-q5"
      }
    },
    {
      "cell_type": "code",
      "source": [
        "def drawImage(image):\n",
        "    img = image.reshape((28, 28))\n",
        "    plt.imshow(img, cmap='gray')\n",
        "    plt.show()\n",
        "\n",
        "drawImg(pixel_test[11])"
      ],
      "metadata": {
        "colab": {
          "base_uri": "https://localhost:8080/",
          "height": 265
        },
        "id": "sZ-_7nUiGjTI",
        "outputId": "5db18de4-a3b7-4178-ea97-09f9c06eb153"
      },
      "execution_count": 33,
      "outputs": [
        {
          "output_type": "display_data",
          "data": {
            "image/png": "[encoded data removed]",
            "text/plain": [
              "<Figure size 432x288 with 1 Axes>"
            ]
          },
          "metadata": {
            "needs_background": "light"
          }
        }
      ]
    },
    {
      "cell_type": "code",
      "source": [
        "Pred = knn(pixel_train, label_train, pixel_test[11])\n",
        "print(int(Pred))"
      ],
      "metadata": {
        "colab": {
          "base_uri": "https://localhost:8080/"
        },
        "id": "C6YwDhBGG0H-",
        "outputId": "f82b7a61-5a0d-43d7-eb2e-81465b94a810"
      },
      "execution_count": 32,
      "outputs": [
        {
          "output_type": "stream",
          "name": "stdout",
          "text": [
            "1\n"
          ]
        }
      ]
    }
  ]
}